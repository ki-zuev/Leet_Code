{
  "nbformat": 4,
  "nbformat_minor": 0,
  "metadata": {
    "colab": {
      "provenance": []
    },
    "kernelspec": {
      "name": "python3",
      "display_name": "Python 3"
    },
    "language_info": {
      "name": "python"
    }
  },
  "cells": [
    {
      "cell_type": "markdown",
      "source": [
        "Подстроки"
      ],
      "metadata": {
        "id": "BmdhNO_L9Uey"
      }
    },
    {
      "cell_type": "code",
      "source": [
        "s = input()\n",
        "q = int(input())\n",
        "n = len(s)\n",
        "x_ = 257\n",
        "p = 10**9+7\n",
        "h = [0]*(n+1)\n",
        "x = [0]*(n+1)\n",
        "x[0] = 1\n",
        "h[0] = 0\n",
        "s = ' '+s\n",
        "for i in range(1,n+1):\n",
        "  h[i] = (h[i-1]*x_+ord(s[i]))%p\n",
        "  x[i] = (x[i-1]*x_)%p\n",
        "\n",
        "for i in range(q):\n",
        "  x0 = list(map(int, input().split()))\n",
        "  l, a, b = x0[0], x0[1]+1, x0[2]+1\n",
        "  if (h[a+l-1]+h[b-1]*x[l])%p == (h[b+l-1]+h[a-1]*x[l])%p:\n",
        "    print(\"yes\")\n",
        "  else:\n",
        "   print(\"no\")"
      ],
      "metadata": {
        "id": "KqI4WAxm9T6q"
      },
      "execution_count": null,
      "outputs": []
    },
    {
      "cell_type": "markdown",
      "source": [
        "Summary Ranges"
      ],
      "metadata": {
        "id": "qy21zM0hRmIr"
      }
    },
    {
      "cell_type": "code",
      "execution_count": null,
      "metadata": {
        "colab": {
          "base_uri": "https://localhost:8080/"
        },
        "id": "OUOoXEb0RjpJ",
        "outputId": "ac15e9f1-98ae-4952-c168-9becd6cf25e6"
      },
      "outputs": [
        {
          "output_type": "stream",
          "name": "stdout",
          "text": [
            "1\n",
            "['1']\n"
          ]
        }
      ],
      "source": [
        "class Solution(object):\n",
        "    def summaryRanges(self, nums):\n",
        "        \"\"\"\n",
        "        :type nums: List[int]\n",
        "        :rtype: List[str]\n",
        "        \"\"\"\n",
        "        ans = []\n",
        "        n = len(nums)\n",
        "        if n > 1:\n",
        "          a = nums[0]\n",
        "          for i in range(n-1):\n",
        "              if nums[i]+1 != nums[i+1]:\n",
        "                  if nums[i] != a:\n",
        "                      k = str(a)+\"->\"+str(nums[i])\n",
        "                      ans.append(k)\n",
        "                  else:\n",
        "                      k = str(a)\n",
        "                      ans.append(k)\n",
        "                  a = nums[i+1]\n",
        "              if i == n-2:\n",
        "                if nums[i+1] != a:\n",
        "                      k = str(a)+\"->\"+str(nums[i+1])\n",
        "                      ans.append(k)\n",
        "                else:\n",
        "                      k = str(a)\n",
        "                      ans.append(k)\n",
        "                a = nums[i+1]\n",
        "        if n == 1:\n",
        "          ans.append(str(nums[0]))\n",
        "        return ans\n",
        "\n",
        "s = list(map(int, input().split()))\n",
        "sol = Solution()\n",
        "print(sol.summaryRanges(s))"
      ]
    },
    {
      "cell_type": "markdown",
      "source": [
        "Group Anagrams"
      ],
      "metadata": {
        "id": "HWFJfZkCWTDd"
      }
    },
    {
      "cell_type": "code",
      "source": [
        "class Solution(object):\n",
        "    def groupAnagrams(self, strs):\n",
        "        \"\"\"\n",
        "        :type strs: List[str]\n",
        "        :rtype: List[List[str]]\n",
        "        \"\"\"\n",
        "        d = {}\n",
        "        for i in strs:\n",
        "          str1 = sorted(i)\n",
        "          str1 = \"\".join(str1)\n",
        "          if str1 not in d:\n",
        "            d[str1] = [i]\n",
        "          else:\n",
        "            d[str1].append(i)\n",
        "        ans = []\n",
        "        for k, v in d.items():\n",
        "          ans.append(d[k])\n",
        "        return ans\n",
        "\n",
        "s = input().split()\n",
        "sol = Solution()\n",
        "print(sol.groupAnagrams(s))"
      ],
      "metadata": {
        "colab": {
          "base_uri": "https://localhost:8080/"
        },
        "id": "xgFIOnNPWUGu",
        "outputId": "64a88761-396f-4918-fd23-249eeac04ef4"
      },
      "execution_count": null,
      "outputs": [
        {
          "output_type": "stream",
          "name": "stdout",
          "text": [
            "a\n",
            "[['a']]\n"
          ]
        }
      ]
    },
    {
      "cell_type": "markdown",
      "source": [
        "Isomorphic Strings"
      ],
      "metadata": {
        "id": "SAFgxnzNfulx"
      }
    },
    {
      "cell_type": "code",
      "source": [
        "class Solution(object):\n",
        "    def isIsomorphic(self, s, t):\n",
        "        \"\"\"\n",
        "        :type s: str\n",
        "        :type t: str\n",
        "        :rtype: bool\n",
        "        \"\"\"\n",
        "        map1 = []\n",
        "        map2 = []\n",
        "        for idx in s:\n",
        "            map1.append(s.index(idx))\n",
        "        for idx in t:\n",
        "            map2.append(t.index(idx))\n",
        "        if map1 == map2:\n",
        "            return True\n",
        "        return False\n",
        "\n",
        "s = input()\n",
        "t = input()\n",
        "sol = Solution()\n",
        "print(sol.isIsomorphic(s, t))"
      ],
      "metadata": {
        "colab": {
          "base_uri": "https://localhost:8080/"
        },
        "id": "OCq0gdGdgmxc",
        "outputId": "90519b68-1fd2-4be4-a65f-b4b1e5c0c448"
      },
      "execution_count": null,
      "outputs": [
        {
          "output_type": "stream",
          "name": "stdout",
          "text": [
            "egg\n",
            "add\n",
            "True\n"
          ]
        }
      ]
    },
    {
      "cell_type": "code",
      "source": [
        "class Solution(object):\n",
        "    def isIsomorphic(self, s, t):\n",
        "        \"\"\"\n",
        "        :type s: str\n",
        "        :type t: str\n",
        "        :rtype: bool\n",
        "        \"\"\"\n",
        "        return len(set(zip(s, t))) == len(set(s)) == len(set(t))\n",
        "\n",
        "s = input()\n",
        "t = input()\n",
        "sol = Solution()\n",
        "print(sol.isIsomorphic(s, t))"
      ],
      "metadata": {
        "colab": {
          "base_uri": "https://localhost:8080/"
        },
        "id": "R-CgtJqgtFL0",
        "outputId": "1428c1ce-7f1b-4700-894b-2645fffe43d0"
      },
      "execution_count": null,
      "outputs": [
        {
          "output_type": "stream",
          "name": "stdout",
          "text": [
            "bbbaaaba\n",
            "aaabbbba\n",
            "{('a', 'b'), ('b', 'a'), ('a', 'a'), ('b', 'b')}\n",
            "{'b', 'a'}\n",
            "{'a', 'b'}\n",
            "False\n"
          ]
        }
      ]
    },
    {
      "cell_type": "markdown",
      "source": [
        "Meeting Rooms"
      ],
      "metadata": {
        "id": "ifiKXN4v6m6y"
      }
    },
    {
      "cell_type": "code",
      "source": [
        "class Solution(object):\n",
        "    def canAttendMeetings(self, intervals):\n",
        "      n = len(intervals)\n",
        "      sorti = sorted(intervals, key=lambda x: x[0])\n",
        "      for i in range(n-1):\n",
        "        if sorti[i][1] > sorti[i+1][0]:\n",
        "          return False\n",
        "      return True\n",
        "\n",
        "mas = []\n",
        "n = int(input())\n",
        "for i in range(n):\n",
        "  mas.append(list(map(int, input().split())))\n",
        "sol = Solution()\n",
        "print(sol.canAttendMeetings(mas))"
      ],
      "metadata": {
        "colab": {
          "base_uri": "https://localhost:8080/"
        },
        "id": "nZQ0lWjD6mOc",
        "outputId": "736c8385-556a-4750-8063-bb9a4d46d301"
      },
      "execution_count": null,
      "outputs": [
        {
          "output_type": "stream",
          "name": "stdout",
          "text": [
            "2\n",
            "7 10\n",
            "2 4\n",
            "True\n"
          ]
        }
      ]
    },
    {
      "cell_type": "markdown",
      "source": [
        "Meeting Rooms II"
      ],
      "metadata": {
        "id": "R4Ri2wCb0I2V"
      }
    },
    {
      "cell_type": "code",
      "source": [
        "class Solution(object):\n",
        "    def minMeetingRooms(self, intervals):\n",
        "      n = len(intervals)\n",
        "      start = [0]*n\n",
        "      end = [0]*n\n",
        "      for i in range(n):\n",
        "        start[i] = intervals[i][0]\n",
        "        end[i] = intervals[i][1]\n",
        "      start.sort()\n",
        "      end.sort()\n",
        "      k = 0\n",
        "      endi = 0\n",
        "      for i in range(n):\n",
        "        if start[i] < end[endi]:\n",
        "          k += 1\n",
        "        else:\n",
        "          endi += 1\n",
        "      return k\n",
        "\n",
        "mas = []\n",
        "n = int(input())\n",
        "for i in range(n):\n",
        "  mas.append(list(map(int, input().split())))\n",
        "sol = Solution()\n",
        "print(sol.minMeetingRooms(mas))"
      ],
      "metadata": {
        "colab": {
          "base_uri": "https://localhost:8080/"
        },
        "id": "rKY04JwA0Kro",
        "outputId": "25f5f863-54d0-4928-dca3-3b8699c7b58e"
      },
      "execution_count": null,
      "outputs": [
        {
          "output_type": "stream",
          "name": "stdout",
          "text": [
            "2\n",
            "7 10\n",
            "2 4\n",
            "1\n"
          ]
        }
      ]
    },
    {
      "cell_type": "markdown",
      "source": [
        "Two Sum"
      ],
      "metadata": {
        "id": "R8151GU_1Bm4"
      }
    },
    {
      "cell_type": "code",
      "source": [
        "class Solution(object):\n",
        "    def twoSum(self, nums, target):\n",
        "        \"\"\"\n",
        "        :type nums: List[int]\n",
        "        :type target: int\n",
        "        :rtype: List[int]\n",
        "        \"\"\"\n",
        "        d = {}\n",
        "        n = len(nums)\n",
        "        s = 0\n",
        "        for i in range(n):\n",
        "            s = target-nums[i]\n",
        "            if s in d:\n",
        "                return [d[s], i]\n",
        "            d[nums[i]] = i\n",
        "        return None\n",
        "\n",
        "n = int(input())\n",
        "mas = list(map(int, input().split()))\n",
        "sol = Solution()\n",
        "print(sol.twoSum(mas, n))"
      ],
      "metadata": {
        "colab": {
          "base_uri": "https://localhost:8080/"
        },
        "id": "hPsHL-Mv1CuG",
        "outputId": "8dca82a8-dec7-4bf6-ab83-f553642e9f11"
      },
      "execution_count": null,
      "outputs": [
        {
          "output_type": "stream",
          "name": "stdout",
          "text": [
            "9\n",
            "2 7 11 15\n",
            "0\n",
            "1\n",
            "[0, 1]\n"
          ]
        }
      ]
    },
    {
      "cell_type": "markdown",
      "source": [
        "LRU Cache"
      ],
      "metadata": {
        "id": "LKM3agyX2nO7"
      }
    },
    {
      "cell_type": "code",
      "source": [
        "class LRUCache(object):\n",
        "\n",
        "    def __init__(self, capacity):\n",
        "        \"\"\"\n",
        "        :type capacity: int\n",
        "        \"\"\"\n",
        "        self.capacity = capacity\n",
        "        self.cache = {}\n",
        "        self.evict = {}\n",
        "        self.k = 0\n",
        "\n",
        "    def get(self, key):\n",
        "        \"\"\"\n",
        "        :type key: int\n",
        "        :rtype: int\n",
        "        \"\"\"\n",
        "        if key in self.cache:\n",
        "          self.k += 1\n",
        "          self.evict[key] = self.k\n",
        "          return self.cache[key]\n",
        "        else:\n",
        "          return -1\n",
        "\n",
        "    def put(self, key, value):\n",
        "        \"\"\"\n",
        "        :type key: int\n",
        "        :type value: int\n",
        "        :rtype: None\n",
        "        \"\"\"\n",
        "        self.k += 1\n",
        "        if key in self.cache:\n",
        "          self.cache[key] = value\n",
        "          self.evict[key] = self.k\n",
        "        else:\n",
        "          if len(self.cache) == self.capacity and key not in self.cache:\n",
        "            e = min(self.evict, key=lambda x: self.evict[x])\n",
        "            self.evict[key] = self.k\n",
        "            self.cache[key] = value\n",
        "            self.cache.pop(e)\n",
        "            self.evict.pop(e)\n",
        "          else:\n",
        "            self.cache[key] = value\n",
        "            self.evict[key] = self.k\n",
        "        return None\n",
        "\n",
        "mas = []\n",
        "s = input().split()\n",
        "for i in range(len(s)):\n",
        "  mas.append(list(map(int, input().split())))\n",
        "lRUCache = LRUCache(mas[0][0])\n",
        "for i in range(1, len(s)):\n",
        "  if s[i] == \"put\":\n",
        "    lRUCache.put(mas[i][0], mas[i][1])\n",
        "  if s[i] == \"get\":\n",
        "    lRUCache.get(mas[i][0])\n",
        "\n",
        "# Your LRUCache object will be instantiated and called as such:\n",
        "# obj = LRUCache(capacity)\n",
        "# param_1 = obj.get(key)\n",
        "# obj.put(key,value)"
      ],
      "metadata": {
        "id": "ZVib5qZS2oVy"
      },
      "execution_count": null,
      "outputs": []
    },
    {
      "cell_type": "code",
      "source": [
        "class ListNode:\n",
        "    def __init__(self, key=0, value=0):\n",
        "        self.key = key\n",
        "        self.value = value\n",
        "        self.prev = None\n",
        "        self.next = None\n",
        "\n",
        "class LRUCache(object):\n",
        "    def __init__(self, capacity):\n",
        "        \"\"\"\n",
        "        :type capacity: int\n",
        "        \"\"\"\n",
        "        self.capacity = capacity\n",
        "        self.cache = {}\n",
        "        self.head = ListNode()\n",
        "        self.tail = ListNode()\n",
        "        self.head.next = self.tail\n",
        "        self.tail.prev = self.head\n",
        "\n",
        "    def _remove_node(self, node):\n",
        "        prev_node = node.prev\n",
        "        next_node = node.next\n",
        "        prev_node.next = next_node\n",
        "        next_node.prev = prev_node\n",
        "\n",
        "    def _add_to_tail(self, node):\n",
        "        last_node = self.tail.prev\n",
        "        last_node.next = node\n",
        "        node.prev = last_node\n",
        "        node.next = self.tail\n",
        "        self.tail.prev = node\n",
        "\n",
        "    def get(self, key):\n",
        "        if key in self.cache:\n",
        "            node = self.cache[key]\n",
        "            self._remove_node(node)\n",
        "            self._add_to_tail(node)\n",
        "            return node.value\n",
        "        return -1\n",
        "\n",
        "    def put(self, key, value):\n",
        "        if key in self.cache:\n",
        "            node = self.cache[key]\n",
        "            node.value = value\n",
        "            self._remove_node(node)\n",
        "            self._add_to_tail(node)\n",
        "        else:\n",
        "            if len(self.cache) >= self.capacity:\n",
        "                evicted_node = self.head.next\n",
        "                self._remove_node(evicted_node)\n",
        "                del self.cache[evicted_node.key]\n",
        "\n",
        "            new_node = ListNode(key, value)\n",
        "            self.cache[key] = new_node\n",
        "            self._add_to_tail(new_node)"
      ],
      "metadata": {
        "id": "Fj5XsP1dROp4"
      },
      "execution_count": null,
      "outputs": []
    },
    {
      "cell_type": "markdown",
      "source": [
        "Reverse Linked List"
      ],
      "metadata": {
        "id": "dp_mr4gDXzFS"
      }
    },
    {
      "cell_type": "code",
      "source": [
        "# Definition for singly-linked list.\n",
        "class ListNode(object):\n",
        "    def __init__(self, val=0, next=None):\n",
        "        self.val = val\n",
        "        self.next = next\n",
        "class Solution(object):\n",
        "    def reverseList(self, head):\n",
        "        \"\"\"\n",
        "        :type head: ListNode\n",
        "        :rtype: ListNode\n",
        "        \"\"\"\n",
        "        prev = None\n",
        "        while head:\n",
        "          next = head.next\n",
        "          head.next = prev\n",
        "          prev = head\n",
        "          head = next\n",
        "        return prev"
      ],
      "metadata": {
        "id": "pB1VUtGHYFcM"
      },
      "execution_count": null,
      "outputs": []
    },
    {
      "cell_type": "markdown",
      "source": [
        "Valid Palindrome"
      ],
      "metadata": {
        "id": "L0hi45AxAlTO"
      }
    },
    {
      "cell_type": "code",
      "source": [
        "class Solution(object):\n",
        "    def isPalindrome(self, s):\n",
        "        \"\"\"\n",
        "        :type s: str\n",
        "        :rtype: bool\n",
        "        \"\"\"\n",
        "        s = s.lower()\n",
        "        s = \"\".join(i for i in s if i.isalnum())\n",
        "        l = 0\n",
        "        r = len(s)-1\n",
        "        while l < r:\n",
        "          if s[l] != s[r]:\n",
        "            return False\n",
        "          l += 1\n",
        "          r -= 1\n",
        "        return True\n",
        "s = input()\n",
        "print(Solution().isPalindrome(s))"
      ],
      "metadata": {
        "id": "kSNmvqH2A6zd",
        "colab": {
          "base_uri": "https://localhost:8080/"
        },
        "outputId": "69874fb5-6707-4e36-8b57-0c58cc90ba44"
      },
      "execution_count": null,
      "outputs": [
        {
          "output_type": "stream",
          "name": "stdout",
          "text": [
            "a\n",
            "True\n"
          ]
        }
      ]
    },
    {
      "cell_type": "markdown",
      "source": [
        "Generate Parentheses"
      ],
      "metadata": {
        "id": "TDH8Qz_AaTG4"
      }
    },
    {
      "cell_type": "code",
      "source": [
        "class Solution(object):\n",
        "    def rec(self, s, k0, k1, n, ans):\n",
        "        if k0==k1==n:\n",
        "          ans.append(s)\n",
        "        else:\n",
        "          if k0 <= n:\n",
        "            self.rec(s+\"(\", k0+1, k1, n, ans)\n",
        "          if k1 < k0:\n",
        "            self.rec(s+\")\", k0, k1+1, n, ans)\n",
        "    def generateParenthesis(self, n):\n",
        "        \"\"\"\n",
        "        :type n: int\n",
        "        :rtype: List[str]\n",
        "        \"\"\"\n",
        "        s = \"(\"\n",
        "        ans = []\n",
        "        self.rec(s, 1, 0, n, ans)\n",
        "        return ans\n",
        "\n",
        "n = int(input())\n",
        "print(Solution().generateParenthesis(n))"
      ],
      "metadata": {
        "colab": {
          "base_uri": "https://localhost:8080/"
        },
        "id": "FYDEA44taT4M",
        "outputId": "14a6ef6b-db7c-4d85-bdde-4ca1a3569745"
      },
      "execution_count": null,
      "outputs": [
        {
          "output_type": "stream",
          "name": "stdout",
          "text": [
            "4\n",
            "['(((())))', '((()()))', '((())())', '((()))()', '(()(()))', '(()()())', '(()())()', '(())(())', '(())()()', '()((()))', '()(()())', '()(())()', '()()(())', '()()()()']\n"
          ]
        }
      ]
    },
    {
      "cell_type": "code",
      "source": [
        "class Solution(object):\n",
        "    def generateParenthesis(self, n):\n",
        "        \"\"\"\n",
        "        :type n: int\n",
        "        :rtype: List[str]\n",
        "        \"\"\"\n",
        "        stack = []\n",
        "        res = []\n",
        "\n",
        "        def backtrack(openN, closedN):\n",
        "            if openN == closedN == n:\n",
        "                res.append(\"\".join(stack))\n",
        "                return\n",
        "\n",
        "            if openN < n:\n",
        "                stack.append(\"(\")\n",
        "                backtrack(openN + 1, closedN)\n",
        "                stack.pop()\n",
        "            if closedN < openN:\n",
        "                stack.append(\")\")\n",
        "                backtrack(openN, closedN + 1)\n",
        "                stack.pop()\n",
        "\n",
        "        backtrack(0, 0)\n",
        "        return res\n",
        "\n",
        "n = int(input())\n",
        "print(Solution().generateParenthesis(n))"
      ],
      "metadata": {
        "colab": {
          "base_uri": "https://localhost:8080/"
        },
        "id": "oYuJ6iZHlCu5",
        "outputId": "acc9379b-3e16-4222-b55f-71d9e667a719"
      },
      "execution_count": null,
      "outputs": [
        {
          "output_type": "stream",
          "name": "stdout",
          "text": [
            "4\n",
            "['(((())))', '((()()))', '((())())', '((()))()', '(()(()))', '(()()())', '(()())()', '(())(())', '(())()()', '()((()))', '()(()())', '()(())()', '()()(())', '()()()()']\n"
          ]
        }
      ]
    },
    {
      "cell_type": "markdown",
      "source": [
        "Move Zeroes"
      ],
      "metadata": {
        "id": "DlW7u26dnLIS"
      }
    },
    {
      "cell_type": "code",
      "source": [
        "class Solution(object):\n",
        "    def moveZeroes(self, nums):\n",
        "        \"\"\"\n",
        "        :type nums: List[int]\n",
        "        :rtype: None Do not return anything, modify nums in-place instead.\n",
        "        \"\"\"\n",
        "        n = len(nums)\n",
        "        k = 0\n",
        "        i = 0\n",
        "        while i < n-k:\n",
        "          if nums[i] == 0:\n",
        "            nums.pop(i)\n",
        "            k += 1\n",
        "          else:\n",
        "            i += 1\n",
        "        for i in range(k):\n",
        "          nums.append(0)\n",
        "        print(nums)\n",
        "mas = list(map(int, input().split()))\n",
        "print(Solution().moveZeroes(mas))"
      ],
      "metadata": {
        "colab": {
          "base_uri": "https://localhost:8080/"
        },
        "id": "hAZV5uh6nNa8",
        "outputId": "f0b9d0e7-8b59-46c1-9412-2f5392c22268"
      },
      "execution_count": null,
      "outputs": [
        {
          "output_type": "stream",
          "name": "stdout",
          "text": [
            "0 1 0 2 0 3 0 4 0 5\n",
            "[1, 2, 3, 4, 5, 0, 0, 0, 0, 0]\n",
            "None\n"
          ]
        }
      ]
    },
    {
      "cell_type": "markdown",
      "source": [
        "Valid Parentheses"
      ],
      "metadata": {
        "id": "C5HhBYfqtWkZ"
      }
    },
    {
      "cell_type": "code",
      "source": [
        "class Solution(object):\n",
        "    def isValid(self, s):\n",
        "        \"\"\"\n",
        "        :type s: str\n",
        "        :rtype: bool\n",
        "        \"\"\"\n",
        "        d = {'(': ')', '[': ']', '{': '}'}\n",
        "        mas = []\n",
        "        for i in s:\n",
        "          if i in '([{':\n",
        "            mas.append(i)\n",
        "          else:\n",
        "            if len(mas) == 0 or i != d[mas.pop()]:\n",
        "              return False\n",
        "        return len(mas) == 0\n",
        "\n",
        "s = input()\n",
        "print(Solution().isValid(s))"
      ],
      "metadata": {
        "colab": {
          "base_uri": "https://localhost:8080/"
        },
        "id": "ag-aPh0jtbgj",
        "outputId": "2179eb15-fce9-4770-dc68-ab4768af2a4b"
      },
      "execution_count": null,
      "outputs": [
        {
          "output_type": "stream",
          "name": "stdout",
          "text": [
            "[\n",
            "False\n"
          ]
        }
      ]
    },
    {
      "cell_type": "markdown",
      "source": [
        "String Compression"
      ],
      "metadata": {
        "id": "b-NPxuLW11KG"
      }
    },
    {
      "cell_type": "code",
      "source": [
        "class Solution(object):\n",
        "    def compress(self, chars):\n",
        "        \"\"\"\n",
        "        :type chars: List[str]\n",
        "        :rtype: int\n",
        "        \"\"\"\n",
        "        i = 0\n",
        "        k = 1\n",
        "        while i < len(chars)-2:\n",
        "            if chars[i] == chars[i+1]:\n",
        "                k += 1\n",
        "                if chars[i+1] == chars[i+2]:\n",
        "                    chars.pop(i)\n",
        "                else:\n",
        "                    k0 = str(k)\n",
        "                    if k < 10:\n",
        "                        chars[i+1] = k0\n",
        "                        i += 2\n",
        "                        k = 1\n",
        "                    else:\n",
        "                        chars[i+1] = k0[0]\n",
        "                        for j in range(1,len(k0)):\n",
        "                            chars.insert(i+2,k0[j])\n",
        "                        i += len(k0)\n",
        "                        i += 1\n",
        "                        k = 1\n",
        "            else:\n",
        "                k = 1\n",
        "                i += 1\n",
        "        if len(chars) > 1:\n",
        "            if chars[-2] == chars[-1]:\n",
        "                k += 1\n",
        "                k0 = str(k)\n",
        "                if k < 10:\n",
        "                    chars[-1] = k0\n",
        "                else:\n",
        "                    chars[-1] = k0[0]\n",
        "                    for i in range(1,len(k0)):\n",
        "                        chars.append(k0[i])\n",
        "        return len(chars)"
      ],
      "metadata": {
        "id": "B1-vw51qXuVt"
      },
      "execution_count": null,
      "outputs": []
    },
    {
      "cell_type": "code",
      "source": [
        "class Solution(object):\n",
        "    def compress(self, chars):\n",
        "        ans = 0\n",
        "        i = 0\n",
        "\n",
        "        while i < len(chars):\n",
        "            letter = chars[i]\n",
        "            count = 0\n",
        "            while i < len(chars) and chars[i] == letter:\n",
        "                count += 1\n",
        "                i += 1\n",
        "            chars[ans] = letter\n",
        "            ans += 1\n",
        "            if count > 1:\n",
        "                for c in str(count):\n",
        "                    chars[ans] = c\n",
        "                    ans += 1\n",
        "        return ans\n",
        "\n",
        "s = input().split()\n",
        "print(Solution().compress(s))"
      ],
      "metadata": {
        "colab": {
          "base_uri": "https://localhost:8080/"
        },
        "id": "kARxpJwKYxTW",
        "outputId": "69c69be8-7dc5-4399-8489-5b7b315fb70f"
      },
      "execution_count": null,
      "outputs": [
        {
          "output_type": "stream",
          "name": "stdout",
          "text": [
            "a b b b b b b b b b b b b b b\n",
            "4\n"
          ]
        }
      ]
    },
    {
      "cell_type": "markdown",
      "source": [
        "Subarray Sum Equals K"
      ],
      "metadata": {
        "id": "dD95RPZgbtAf"
      }
    },
    {
      "cell_type": "code",
      "source": [
        "class Solution(object):\n",
        "    def subarraySum(self, nums, k):\n",
        "        \"\"\"\n",
        "        :type nums: List[int]\n",
        "        :type k: int\n",
        "        :rtype: int\n",
        "        \"\"\"\n",
        "        ans = 0\n",
        "        n = len(nums)\n",
        "        for i in range(n):\n",
        "          sum0 = 0\n",
        "          for j in range(i,n):\n",
        "            sum0 += nums[j]\n",
        "            if sum0 == k:\n",
        "              ans += 1\n",
        "        return ans\n",
        "\n",
        "s = list(map(int,input().split()))\n",
        "k = int(input())\n",
        "print(Solution().subarraySum(s,k))"
      ],
      "metadata": {
        "colab": {
          "base_uri": "https://localhost:8080/"
        },
        "id": "kiJ0Wy5VbxI8",
        "outputId": "c3e3cf4a-62d7-4dee-99e3-2cc666d46605"
      },
      "execution_count": null,
      "outputs": [
        {
          "output_type": "stream",
          "name": "stdout",
          "text": [
            "1\n",
            "1\n",
            "1\n"
          ]
        }
      ]
    },
    {
      "cell_type": "code",
      "source": [
        "class Solution(object):\n",
        "    def subarraySum(self, nums, k):\n",
        "        \"\"\"\n",
        "        :type nums: List[int]\n",
        "        :type k: int\n",
        "        :rtype: int\n",
        "        \"\"\"\n",
        "        d = {}\n",
        "        d[0] = 1\n",
        "        ans = 0\n",
        "        n = len(nums)\n",
        "        sum0 = 0\n",
        "        for i in range(n):\n",
        "          sum0 += nums[i]\n",
        "          if sum0-k in d:\n",
        "            ans += d[sum0-k]\n",
        "          if sum0 in d:\n",
        "            d[sum0] += 1\n",
        "          else:\n",
        "            d[sum0] = 1\n",
        "        return ans\n",
        "\n",
        "s = list(map(int,input().split()))\n",
        "k = int(input())\n",
        "print(Solution().subarraySum(s,k))"
      ],
      "metadata": {
        "colab": {
          "base_uri": "https://localhost:8080/"
        },
        "id": "L7hYzATkscVz",
        "outputId": "31d54a22-494e-4645-f609-0112165b0818"
      },
      "execution_count": null,
      "outputs": [
        {
          "output_type": "stream",
          "name": "stdout",
          "text": [
            "-1 1 0\n",
            "0\n",
            "3\n"
          ]
        }
      ]
    },
    {
      "cell_type": "markdown",
      "source": [
        "Merge Intervals"
      ],
      "metadata": {
        "id": "1C5sPkYg0cUR"
      }
    },
    {
      "cell_type": "code",
      "source": [
        "class Solution(object):\n",
        "    def merge(self, intervals):\n",
        "        \"\"\"\n",
        "        :type intervals: List[List[int]]\n",
        "        :rtype: List[List[int]]\n",
        "        \"\"\"\n",
        "        ans = []\n",
        "        intervals.sort(key=lambda x: x[0])\n",
        "        n = len(intervals)\n",
        "        s = intervals[0][0]\n",
        "        e = intervals[0][-1]\n",
        "        for i in range(n-1):\n",
        "          if (s <= intervals[i+1][-1] and s >= intervals[i+1][0]):\n",
        "            s = min(s,intervals[i+1][0])\n",
        "            e = max(e,intervals[i+1][-1])\n",
        "          elif (e <= intervals[i+1][-1] and e >= intervals[i+1][0]):\n",
        "            e = max(e,intervals[i+1][-1])\n",
        "          elif (intervals[i+1][0] <= e and intervals[i+1][0] >= s):\n",
        "            e = max(e,intervals[i+1][-1])\n",
        "          elif (intervals[i+1][-1] <= e and intervals[i+1][-1] >= s):\n",
        "            s = min(s,intervals[i+1][0])\n",
        "            e = max(e,intervals[i+1][-1])\n",
        "          else:\n",
        "            ans.append([s,e])\n",
        "            s = intervals[i+1][0]\n",
        "            e = intervals[i+1][-1]\n",
        "        ans.append([s,e])\n",
        "        return ans\n",
        "\n",
        "print(Solution().merge([[2,3],[4,5],[6,7],[8,9],[1,10]]))"
      ],
      "metadata": {
        "id": "r0az1gCe0d4h",
        "colab": {
          "base_uri": "https://localhost:8080/"
        },
        "outputId": "4c975454-68e9-42d0-ca41-ae15d7af2054"
      },
      "execution_count": null,
      "outputs": [
        {
          "output_type": "stream",
          "name": "stdout",
          "text": [
            "[[1, 10]]\n"
          ]
        }
      ]
    },
    {
      "cell_type": "code",
      "source": [
        "class Solution(object):\n",
        "    def merge(self, intervals):\n",
        "        \"\"\"\n",
        "        :type intervals: List[List[int]]\n",
        "        :rtype: List[List[int]]\n",
        "        \"\"\"\n",
        "        ans = []\n",
        "        intervals.sort(key=lambda x: x[0])\n",
        "        n = len(intervals)\n",
        "        for i in range(n):\n",
        "          if len(ans) == 0 or ans[-1][1] < intervals[i][0]:\n",
        "            ans.append(intervals[i])\n",
        "          else:\n",
        "            ans[-1] = ([min(ans[-1][0], intervals[i][0]), max(ans[-1][1], intervals[i][1])])\n",
        "        return ans\n",
        "\n",
        "print(Solution().merge([[2,3],[4,5],[6,7],[8,9],[1,10]]))"
      ],
      "metadata": {
        "colab": {
          "base_uri": "https://localhost:8080/"
        },
        "id": "ExQbmIm3zI8G",
        "outputId": "61194619-ae65-4fd5-916e-b1531a4ad945"
      },
      "execution_count": null,
      "outputs": [
        {
          "output_type": "stream",
          "name": "stdout",
          "text": [
            "[[1, 10]]\n"
          ]
        }
      ]
    },
    {
      "cell_type": "markdown",
      "source": [
        "Max Consecutive Ones III"
      ],
      "metadata": {
        "id": "-5bYSyAk1Asg"
      }
    },
    {
      "cell_type": "code",
      "source": [
        "class Solution(object):\n",
        "    def longestOnes(self, nums, k):\n",
        "        \"\"\"\n",
        "        :type nums: List[int]\n",
        "        :type k: int\n",
        "        :rtype: int\n",
        "        \"\"\"\n",
        "        n = len(nums)\n",
        "        left = 0\n",
        "        for right in range(n):\n",
        "          if nums[right] == 0:\n",
        "            k -= 1\n",
        "          if k < 0:\n",
        "            if nums[left] == 0:\n",
        "              k += 1\n",
        "            left += 1\n",
        "        return n - left\n",
        "\n",
        "s = list(map(int,input().split()))\n",
        "k = int(input())\n",
        "print(Solution().longestOnes(s,k))"
      ],
      "metadata": {
        "id": "F9BbQ_8U1CYq",
        "colab": {
          "base_uri": "https://localhost:8080/"
        },
        "outputId": "7b9902ed-1da1-40d2-a32b-c3882f77f06c"
      },
      "execution_count": null,
      "outputs": [
        {
          "output_type": "stream",
          "name": "stdout",
          "text": [
            "1 1 1 0 0 0 0 0 0 0 0 0 0 0 1 1 1 1 0\n",
            "2\n",
            "6\n"
          ]
        }
      ]
    },
    {
      "cell_type": "markdown",
      "source": [
        "Validate Binary Search Tree"
      ],
      "metadata": {
        "id": "TLlUl6WNkfrH"
      }
    },
    {
      "cell_type": "code",
      "source": [
        "# Definition for a binary tree node.\n",
        "class TreeNode(object):\n",
        "    def __init__(self, val=0, left=None, right=None):\n",
        "        self.val = val\n",
        "        self.left = left\n",
        "        self.right = right\n",
        "class Solution(object):\n",
        "    def bst(self, root, min_val=float('-inf'), max_val=float('inf')):\n",
        "      if root == None:\n",
        "        return True\n",
        "      if not (min_val < root.val < max_val):\n",
        "        return False\n",
        "      return (self.bst(root.left, min_val, root.val) and\n",
        "              self.bst(root.right, root.val, max_val))\n",
        "\n",
        "    def isValidBST(self, root):\n",
        "        \"\"\"\n",
        "        :type root: TreeNode\n",
        "        :rtype: bool\n",
        "        \"\"\"\n",
        "        return self.bst(root)\n",
        "\n",
        "root = TreeNode(5)\n",
        "root.left = TreeNode(1)\n",
        "root.right = TreeNode(4)\n",
        "root.left.left = None\n",
        "root.left.right = None\n",
        "root.right.left = TreeNode(3)\n",
        "root.right.right = TreeNode(6)\n",
        "print(Solution().isValidBST(root))\n",
        "root = TreeNode(2)\n",
        "root.left = TreeNode(1)\n",
        "root.right = TreeNode(3)\n",
        "root.left.left = None\n",
        "root.left.right = None\n",
        "root.right.left = None\n",
        "root.right.right = None\n",
        "print(Solution().isValidBST(root))\n",
        "root = TreeNode(5)\n",
        "root.left = TreeNode(4)\n",
        "root.right = TreeNode(6)\n",
        "root.left.left = None\n",
        "root.left.right = None\n",
        "root.right.left = TreeNode(3)\n",
        "root.right.right = TreeNode(7)\n",
        "print(Solution().isValidBST(root))"
      ],
      "metadata": {
        "colab": {
          "base_uri": "https://localhost:8080/"
        },
        "id": "UivIWhVFkqQw",
        "outputId": "2b4ed3d0-4a26-455f-dc47-3beb49423a85"
      },
      "execution_count": null,
      "outputs": [
        {
          "output_type": "stream",
          "name": "stdout",
          "text": [
            "False\n",
            "True\n",
            "False\n"
          ]
        }
      ]
    }
  ]
}